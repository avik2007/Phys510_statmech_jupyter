{
 "cells": [
  {
   "cell_type": "markdown",
   "metadata": {},
   "source": [
    "Name: AVIK MONDAL  \n",
    "UMID: 11062225  \n",
    "Physics 510"
   ]
  },
  {
   "cell_type": "code",
   "execution_count": 4,
   "metadata": {},
   "outputs": [],
   "source": [
    "import numpy as np\n",
    "import time\n",
    "import matplotlib as mpl\n",
    "import matplotlib.pyplot as plt\n",
    "\n",
    "\n",
    "#necessary libraries"
   ]
  },
  {
   "cell_type": "code",
   "execution_count": 160,
   "metadata": {},
   "outputs": [],
   "source": [
    "def generateIC(size): # generates initial 1D Ising condition (give tuple)\n",
    "    X = np.random.randint(0,2,[size[0],size[1]]) # 1D initial condition\n",
    "    for j in range(len(X[:,0])):\n",
    "        for i in range(len(X[j,:])):\n",
    "            if (X[j,i] < 1):\n",
    "                X[j,i] = -1\n",
    "            else:\n",
    "                X[j,i] = 1\n",
    "    return X\n",
    "\n",
    "def calculate2DIsingHamiltonian(X):\n",
    "    H = 0\n",
    "    xlen = X.shape[0]\n",
    "    ylen = X.shape[1]\n",
    "    for i in range(xlen):\n",
    "        for j in range(ylen):\n",
    "            spin_current = X[i,j]\n",
    "            if (j+1 == ylen):\n",
    "                spin_right = X[i,0]\n",
    "            else:\n",
    "                spin_right = X[i, j+1]\n",
    "            if (i+1 == xlen):\n",
    "                spin_down = X[0, j]\n",
    "            else:\n",
    "                spin_down = X[i+1,j]\n",
    "            H -= spin_current *(spin_right + spin_down)\n",
    "    return H\n",
    "\n",
    "def calculate2DIsingHamiltonianPerturbation(X, xpos, ypos, spin_old,spin_new):\n",
    "    xlen = X.shape[0]\n",
    "    ylen = X.shape[0]\n",
    "    if (xpos + 1 == xlen):\n",
    "        spin_right = X[0,ypos]\n",
    "    else:\n",
    "        spin_right = X[xpos+1,ypos]\n",
    "    if ((xpos - 1) < 0):\n",
    "        spin_left = X[xlen-1,ypos]\n",
    "    else:\n",
    "        spin_left = X[xpos-1,ypos]\n",
    "    if ((ypos + 1) == ylen):\n",
    "        spin_down = X[xpos, 0]\n",
    "    else:\n",
    "        spin_down = X[xpos, ypos+1]\n",
    "    if ((ypos - 1) == -1):\n",
    "        spin_up = X[xpos, ylen-1]\n",
    "    else:\n",
    "        spin_up = X[xpos, ypos-1]\n",
    "    Hold = spin_old * -1*(spin_right + spin_left+spin_down+spin_up)\n",
    "    Hnew = spin_new * -1*(spin_right + spin_left+spin_down+spin_up)\n",
    "    return Hnew - Hold\n",
    "\n",
    "# returns both the final iteration and the perturbation after one metropolis hastings iteration\n",
    "def metropolisHastingsIterator2D(initial,T):\n",
    "    Xinit = initial\n",
    "    \n",
    "    #Hinit = calculate2DIsingHamiltonian(Xinit)\n",
    "    #pick random lattice site\n",
    "    rando_x = np.random.randint(0, Xinit.shape[0]) \n",
    "    rando_y = np.random.randint(0, Xinit.shape[1])\n",
    "        #generate potential next condition\n",
    "        #Xnext = np.copy(Xinit)\n",
    "    #Xinit[rando_x, rando_y] = Xinit[rando_x,rando_y]*-1\n",
    "        # calculate hamiltonian of next condition\n",
    "    spin_old = Xinit[rando_x, rando_y]\n",
    "    spin_new = Xinit[rando_x, rando_y]*-1\n",
    "    perturb = calculate2DIsingHamiltonianPerturbation(Xinit,rando_x, rando_y, spin_old, spin_new)\n",
    "        \n",
    "        # calculate exponent of partition function (canonical distribution)\n",
    "    partitionExp =  perturb/T\n",
    "        #calculate acceptance ratio\n",
    "    acceptRatio = 0\n",
    "    if (np.exp(-1*partitionExp) >= 1):\n",
    "        acceptRatio = 1\n",
    "    else:\n",
    "        acceptRatio = np.exp(-1*partitionExp)\n",
    "        # calculate whether we accept or not\n",
    "    acceptTestVal = np.random.random(1)\n",
    "    if (acceptTestVal <= acceptRatio):\n",
    "        Xinit[rando_x, rando_y] = Xinit[rando_x,rando_y]*-1\n",
    "        p = perturb\n",
    "    else:\n",
    "        p = 0\n",
    "    return Xinit, p\n"
   ]
  },
  {
   "cell_type": "code",
   "execution_count": 162,
   "metadata": {},
   "outputs": [
    {
     "name": "stdout",
     "output_type": "stream",
     "text": [
      "-8.0\n"
     ]
    },
    {
     "data": {
      "text/plain": [
       "-5000.0"
      ]
     },
     "execution_count": 162,
     "metadata": {},
     "output_type": "execute_result"
    }
   ],
   "source": [
    "X = np.ones((50,50))\n",
    "\n",
    "print(calculate2DIsingHamiltonianPerturbation(X,0, 0, -1, 1))\n",
    "calculate2DIsingHamiltonian(np.ones((50,50)))"
   ]
  },
  {
   "cell_type": "code",
   "execution_count": 165,
   "metadata": {},
   "outputs": [],
   "source": [
    "def findMagnetization(X):\n",
    "    N = X.shape[0]*X.shape[1]\n",
    "    return np.sum(X) / N\n"
   ]
  },
  {
   "cell_type": "code",
   "execution_count": 166,
   "metadata": {},
   "outputs": [
    {
     "name": "stdout",
     "output_type": "stream",
     "text": [
      "326.30720567703247\n"
     ]
    }
   ],
   "source": [
    "start = time.time()\n",
    "Ndim = 50\n",
    "N = Ndim**2\n",
    "Tlow = 1.0\n",
    "Thigh = 3.6\n",
    "Tinterval = Thigh-Tlow\n",
    "Tarraysize = int(Tinterval*10.0)\n",
    "mcsteps = 1000000 #1000000\n",
    "Temp = np.zeros((Tarraysize,1))\n",
    "Cv = np.zeros((Tarraysize,1))\n",
    "m = np.zeros((Tarraysize,1))\n",
    "H2mean = np.zeros((Tarraysize,1))\n",
    "Hmean = np.zeros((Tarraysize,1))\n",
    "\n",
    "for tupdate in range(0,Tarraysize):\n",
    "    X = np.ones((Ndim,Ndim))\n",
    "    E = -5000.0\n",
    "    H = np.zeros((int(mcsteps/2),1))\n",
    "    H2 = np.zeros((int(mcsteps/2),1))\n",
    "    for iter in range(0, mcsteps):\n",
    "        X, p = metropolisHastingsIterator2D(X, tupdate/10.0 + 1.0)\n",
    "        E+=p\n",
    "        if (iter >= mcsteps/2):\n",
    "            H[iter - int(mcsteps/2), 0] = E\n",
    "            H2[iter - int(mcsteps/2), 0] = E**2\n",
    "    H2mean[tupdate, 0]  = np.mean(H2)\n",
    "    Hmean[tupdate,0] = np.mean(H)**2\n",
    "    Cv[tupdate, 0] = ( np.mean(H2) - np.mean(H)**2 ) / (N * (tupdate/10.0 + 1.0)**2 )\n",
    "    m[tupdate,0] = findMagnetization(X)\n",
    "    Temp[tupdate,0] = tupdate/10.0 + 1.0\n",
    "end = time.time()\n",
    "print(end - start)\n",
    "    "
   ]
  },
  {
   "cell_type": "code",
   "execution_count": 171,
   "metadata": {},
   "outputs": [
    {
     "data": {
      "text/plain": [
       "Text(0.5,1,'Mean Squared')"
      ]
     },
     "execution_count": 171,
     "metadata": {},
     "output_type": "execute_result"
    },
    {
     "data": {
      "image/png": "[encoded data removed]",
      "text/plain": [
       "<Figure size 432x288 with 1 Axes>"
      ]
     },
     "metadata": {},
     "output_type": "display_data"
    }
   ],
   "source": [
    "plt.plot(Temp, H2mean)\n",
    "plt.title('Mean Squared')"
   ]
  },
  {
   "cell_type": "code",
   "execution_count": 172,
   "metadata": {},
   "outputs": [
    {
     "data": {
      "text/plain": [
       "Text(0.5,1,'Squared Mean')"
      ]
     },
     "execution_count": 172,
     "metadata": {},
     "output_type": "execute_result"
    },
    {
     "data": {
      "image/png": "[encoded data removed]",
      "text/plain": [
       "<Figure size 432x288 with 1 Axes>"
      ]
     },
     "metadata": {},
     "output_type": "display_data"
    }
   ],
   "source": [
    "plt.plot(Temp,Hmean)\n",
    "plt.title('Squared Mean')"
   ]
  },
  {
   "cell_type": "code",
   "execution_count": 173,
   "metadata": {},
   "outputs": [
    {
     "data": {
      "text/plain": [
       "Text(0.5,1,'Specific Heat')"
      ]
     },
     "execution_count": 173,
     "metadata": {},
     "output_type": "execute_result"
    },
    {
     "data": {
      "image/png": "[encoded data removed]",
      "text/plain": [
       "<Figure size 432x288 with 1 Axes>"
      ]
     },
     "metadata": {},
     "output_type": "display_data"
    }
   ],
   "source": [
    "plt.plot(Temp, Cv)\n",
    "plt.title('Specific Heat')"
   ]
  },
  {
   "cell_type": "code",
   "execution_count": 174,
   "metadata": {},
   "outputs": [
    {
     "data": {
      "text/plain": [
       "Text(0.5,1,'Order Parameter')"
      ]
     },
     "execution_count": 174,
     "metadata": {},
     "output_type": "execute_result"
    },
    {
     "data": {
      "image/png": "[encoded data removed]",
      "text/plain": [
       "<Figure size 432x288 with 1 Axes>"
      ]
     },
     "metadata": {},
     "output_type": "display_data"
    }
   ],
   "source": [
    "plt.plot(Temp,m)\n",
    "plt.title('Order Parameter')"
   ]
  },
  {
   "cell_type": "code",
   "execution_count": null,
   "metadata": {},
   "outputs": [],
   "source": []
  },
  {
   "cell_type": "code",
   "execution_count": null,
   "metadata": {},
   "outputs": [],
   "source": []
  }
 ],
 "metadata": {
  "kernelspec": {
   "display_name": "Python 3",
   "language": "python",
   "name": "python3"
  },
  "language_info": {
   "codemirror_mode": {
    "name": "ipython",
    "version": 3
   },
   "file_extension": ".py",
   "mimetype": "text/x-python",
   "name": "python",
   "nbconvert_exporter": "python",
   "pygments_lexer": "ipython3",
   "version": "3.6.4"
  }
 },
 "nbformat": 4,
 "nbformat_minor": 2
}

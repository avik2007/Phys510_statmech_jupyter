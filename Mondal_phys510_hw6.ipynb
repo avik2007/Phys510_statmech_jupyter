{
 "cells": [
  {
   "cell_type": "raw",
   "metadata": {},
   "source": []
  },
  {
   "cell_type": "markdown",
   "metadata": {},
   "source": [
    "Name: AVIK MONDAL  \n",
    "UMID: 11062225  \n",
    "Physics 510"
   ]
  },
  {
   "cell_type": "markdown",
   "metadata": {},
   "source": [
    "Problem 1"
   ]
  },
  {
   "cell_type": "code",
   "execution_count": 28,
   "metadata": {},
   "outputs": [],
   "source": [
    "import numpy as np\n",
    "import time\n",
    "import matplotlib as mpl\n",
    "import matplotlib.pyplot as plt\n",
    "from matplotlib.patches import Circle\n",
    "from matplotlib.collections import PatchCollection\n",
    "\n",
    "#necessary libraries"
   ]
  },
  {
   "cell_type": "code",
   "execution_count": 18,
   "metadata": {},
   "outputs": [
    {
     "data": {
      "text/plain": [
       "<matplotlib.image.AxesImage at 0x1ba321138d0>"
      ]
     },
     "execution_count": 18,
     "metadata": {},
     "output_type": "execute_result"
    },
    {
     "data": {
      "image/png": "[encoded data removed]",
      "text/plain": [
       "<Figure size 432x288 with 1 Axes>"
      ]
     },
     "metadata": {},
     "output_type": "display_data"
    }
   ],
   "source": [
    "def generateIC(size): # generates initial 1D Ising condition (give tuple)\n",
    "    X = np.random.randint(0,2,[size[0],size[1]]) # 1D initial condition\n",
    "    for j in range(len(X[:,0])):\n",
    "        for i in range(len(X[j,:])):\n",
    "            if (X[j,i] < 1):\n",
    "                X[j,i] = -1\n",
    "            else:\n",
    "                X[j,i] = 1\n",
    "    return X\n",
    "\n",
    "Xinitial = generateIC((1,100))\n",
    "\n",
    "\n",
    "plt.axis('off')\n",
    "plt.imshow(Xinitial)\n"
   ]
  },
  {
   "cell_type": "code",
   "execution_count": null,
   "metadata": {},
   "outputs": [],
   "source": [
    "#\n",
    "# CALCULATE ONLY THE PERTURBATION - NOT THE ENTIRE HAMILTONIAN EVERY TIME\n",
    "#\n",
    "def calculate1DIsingHamiltonian(X):\n",
    "    H = 0\n",
    "    for j in range(len(X[0,:])):\n",
    "        if (j+1 == len(X[0,:])):\n",
    "            spin1 = X[0,j]\n",
    "            spin2 = X[0,0]\n",
    "        else:\n",
    "            spin1 = X[0,j]\n",
    "            spin2 = X[0,j+1]\n",
    "        H-= spin1*spin2\n",
    "    return H\n",
    "\n",
    "H = calculate1DIsingHamiltonian(Xinitial)\n",
    "\n",
    "def calculate2DIsingHamiltonian(X):\n",
    "    H = 0\n",
    "    xlen = X.shape[0]\n",
    "    ylen = X.shape[1]\n",
    "    for i in range(xlen):\n",
    "        for j in range(ylen):\n",
    "            spin_current = X[i,j]\n",
    "            if (j+1 == ylen):\n",
    "                spin_right = X[i,0]\n",
    "            else:\n",
    "                spin_right = X[i, j+1]\n",
    "            if (i+1 == xlen):\n",
    "                spin_down = X[0, j]\n",
    "            else:\n",
    "                spin_down = X[i+1,j]\n",
    "            H -= spin_current *(spin_right + spin_down)\n",
    "    return H\n",
    "\n"
   ]
  },
  {
   "cell_type": "code",
   "execution_count": 30,
   "metadata": {},
   "outputs": [],
   "source": [
    "#runs metrpolis hastings algorithm at a given T, with initial state\n",
    "# \"initial\" an \"iters\" number of times (only works for 1D Ising Model) with\n",
    "#periodic boundary conditions\n",
    "def metropolisHastingsIterator(T,initial, iters):\n",
    "    Xinit = initial\n",
    "    for index in range(0,iters):\n",
    "        #pick random lattice site\n",
    "        Hinit = calculate1DIsingHamiltonian(Xinit) # measure hamiltonian initially\n",
    "        rando_x = np.random.randint(0, Xinit.shape[0]) \n",
    "        rando_y = np.random.randint(0, Xinit.shape[1])\n",
    "        #generate potential next condition\n",
    "        #Xnext = np.copy(Xinit)\n",
    "        #Xnext[rando_x, rando_y] = Xnext[rando_x,rando_y]*-1\n",
    "        Xinit[rando_x, rando_y] = Xinit[rando_x,rando_y]*-1\n",
    "        # calculate hamiltonian of next condition\n",
    "        Htest = calculate1DIsingHamiltonian(Xinit)\n",
    "        # calculate exponent of partition function (canonical distribution)\n",
    "        partitionExp = (Htest - Hinit)/T\n",
    "        #calculate acceptance ratio\n",
    "        acceptRatio = 0\n",
    "        if (np.exp(-1*partitionExp) >= 1):\n",
    "            acceptRatio = 1\n",
    "        else:\n",
    "            acceptRatio = np.exp(-1*partitionExp)\n",
    "        # calculate whether we accept or not\n",
    "        acceptTestVal = np.random.random(1)\n",
    "        if (acceptTestVal >= acceptRatio):\n",
    "            Xinit[rando_x, rando_y] = Xinit[rando_x,rando_y]*-1\n",
    "        #print(calculate1DIsingHamiltonian(Xinit))\n",
    "    return Xinit\n",
    "##runs metrpolis hastings algorithm at a given T, with initial state\n",
    "# \"initial\" an \"iters\" number of times (only works for 2D Ising Model)\n",
    "# with periodic boundary conditions\n",
    "def metropolisHastingsIterator2D(T,initial, iters):\n",
    "    Xinit = initial\n",
    "    for index in range(0,iters):\n",
    "        Hinit = calculate2DIsingHamiltonian(Xinit)\n",
    "        #pick random lattice site\n",
    "        rando_x = np.random.randint(0, Xinit.shape[0]) \n",
    "        rando_y = np.random.randint(0, Xinit.shape[1])\n",
    "        #generate potential next condition\n",
    "        #Xnext = np.copy(Xinit)\n",
    "        Xinit[rando_x, rando_y] = Xinit[rando_x,rando_y]*-1\n",
    "        # calculate hamiltonian of next condition\n",
    "        Htest = calculate2DIsingHamiltonian(Xinit)\n",
    "        \n",
    "        # calculate exponent of partition function (canonical distribution)\n",
    "        partitionExp = (Htest - Hinit)/T\n",
    "        #calculate acceptance ratio\n",
    "        acceptRatio = 0\n",
    "        if (np.exp(-1*partitionExp) >= 1):\n",
    "            acceptRatio = 1\n",
    "        else:\n",
    "            acceptRatio = np.exp(-1*partitionExp)\n",
    "        # calculate whether we accept or not\n",
    "        acceptTestVal = np.random.random(1)\n",
    "        if (acceptTestVal >= acceptRatio):\n",
    "            Xinit[rando_x, rando_y] = Xinit[rando_x,rando_y]*-1\n",
    "    return Xinit\n",
    "\n",
    "\n",
    "\n"
   ]
  },
  {
   "cell_type": "code",
   "execution_count": 21,
   "metadata": {},
   "outputs": [],
   "source": [
    "Xinit = generateIC((1,100))\n",
    "Xlast = metropolisHastingsIterator(0.1, Xinit, 1000000)"
   ]
  },
  {
   "cell_type": "markdown",
   "metadata": {},
   "source": [
    "1a) Initial Condition (T = 0.1)"
   ]
  },
  {
   "cell_type": "code",
   "execution_count": 23,
   "metadata": {
    "slideshow": {
     "slide_type": "-"
    }
   },
   "outputs": [
    {
     "data": {
      "image/png": "[encoded data removed]",
      "text/plain": [
       "<Figure size 432x288 with 1 Axes>"
      ]
     },
     "metadata": {},
     "output_type": "display_data"
    }
   ],
   "source": [
    "plt.axis('off')\n",
    "x = plt.imshow(Xinit)\n",
    "#plt.savefig('ic1_0.1_1d.png')"
   ]
  },
  {
   "cell_type": "markdown",
   "metadata": {},
   "source": [
    "Iteration 1 (T = 0.1)"
   ]
  },
  {
   "cell_type": "code",
   "execution_count": 24,
   "metadata": {},
   "outputs": [
    {
     "data": {
      "image/png": "[encoded data removed]",
      "text/plain": [
       "<Figure size 432x288 with 1 Axes>"
      ]
     },
     "metadata": {},
     "output_type": "display_data"
    }
   ],
   "source": [
    "plt.axis('off')\n",
    "y = plt.imshow(Xlast)\n",
    "plt.savefig('ic1_0.1_1d_posthastings.png')"
   ]
  },
  {
   "cell_type": "markdown",
   "metadata": {},
   "source": [
    "New IC"
   ]
  },
  {
   "cell_type": "code",
   "execution_count": 25,
   "metadata": {},
   "outputs": [
    {
     "data": {
      "image/png": "[encoded data removed]",
      "text/plain": [
       "<Figure size 432x288 with 1 Axes>"
      ]
     },
     "metadata": {},
     "output_type": "display_data"
    }
   ],
   "source": [
    "Xinitial = generateIC((1,100)) \n",
    "plt.axis('off')\n",
    "plt.imshow(Xinitial)\n",
    "plt.savefig('ic2_0.1_1d.png')"
   ]
  },
  {
   "cell_type": "markdown",
   "metadata": {},
   "source": [
    "Iteration 2 (T = 0.1)"
   ]
  },
  {
   "cell_type": "code",
   "execution_count": 29,
   "metadata": {},
   "outputs": [
    {
     "name": "stdout",
     "output_type": "stream",
     "text": [
      "164.6149435043335\n"
     ]
    },
    {
     "data": {
      "image/png": "[encoded data removed]",
      "text/plain": [
       "<Figure size 432x288 with 1 Axes>"
      ]
     },
     "metadata": {},
     "output_type": "display_data"
    }
   ],
   "source": [
    "t = time.time()\n",
    "Xlast2 = metropolisHastingsIterator(0.1, Xinitial, 1000000)\n",
    "plt.axis('off')\n",
    "y2 = plt.imshow(Xlast2)\n",
    "#plt.savefig('ic1_0.1_1d_posthastings2.png')\n",
    "print(time.time()-t)"
   ]
  },
  {
   "cell_type": "markdown",
   "metadata": {},
   "source": [
    "new IC"
   ]
  },
  {
   "cell_type": "code",
   "execution_count": 65,
   "metadata": {},
   "outputs": [
    {
     "data": {
      "image/png": "[encoded data removed]",
      "text/plain": [
       "<Figure size 432x288 with 1 Axes>"
      ]
     },
     "metadata": {},
     "output_type": "display_data"
    }
   ],
   "source": [
    "Xinitial = generateIC((1,100)) \n",
    "plt.axis('off')\n",
    "plt.imshow(Xinitial)\n",
    "plt.savefig('ic3_0.1_1d.png')"
   ]
  },
  {
   "cell_type": "markdown",
   "metadata": {},
   "source": [
    "Iteration 3 (T = 0.1)"
   ]
  },
  {
   "cell_type": "code",
   "execution_count": 28,
   "metadata": {},
   "outputs": [
    {
     "data": {
      "text/plain": [
       "<matplotlib.image.AxesImage at 0x22a6fe64550>"
      ]
     },
     "execution_count": 28,
     "metadata": {},
     "output_type": "execute_result"
    },
    {
     "data": {
      "image/png": "[encoded data removed]",
      "text/plain": [
       "<Figure size 432x288 with 1 Axes>"
      ]
     },
     "metadata": {},
     "output_type": "display_data"
    }
   ],
   "source": [
    "Xlast3 = metropolisHastingsIterator(0.1, Xinitial, 1000000)\n",
    "plt.axis('off')\n",
    "plt.imshow(Xlast3)\n",
    "plt.savefig('ic3_0.1_1d_posthastings.png')"
   ]
  },
  {
   "cell_type": "code",
   "execution_count": 29,
   "metadata": {},
   "outputs": [],
   "source": [
    "Xinitial1 = generateIC((1,100))\n",
    "Xinitial2 = generateIC((1,100))\n",
    "Xinitial3 = generateIC((1,100))\n",
    "Xlast21 = metropolisHastingsIterator(10, Xinitial1, 1000000)\n",
    "Xlast22 = metropolisHastingsIterator(10, Xinitial2, 1000000)\n",
    "Xlast23 = metropolisHastingsIterator(10, Xinitial3, 1000000)"
   ]
  },
  {
   "cell_type": "markdown",
   "metadata": {},
   "source": [
    "1b) "
   ]
  },
  {
   "cell_type": "markdown",
   "metadata": {},
   "source": [
    "IC"
   ]
  },
  {
   "cell_type": "code",
   "execution_count": 66,
   "metadata": {},
   "outputs": [
    {
     "data": {
      "image/png": "[encoded data removed]",
      "text/plain": [
       "<Figure size 432x288 with 1 Axes>"
      ]
     },
     "metadata": {},
     "output_type": "display_data"
    }
   ],
   "source": [
    "plt.axis('off')\n",
    "x = plt.imshow(Xinitial1)\n",
    "plt.savefig('ic3_10_1d.png')"
   ]
  },
  {
   "cell_type": "markdown",
   "metadata": {},
   "source": [
    "First Iteration"
   ]
  },
  {
   "cell_type": "code",
   "execution_count": 70,
   "metadata": {},
   "outputs": [
    {
     "data": {
      "image/png": "[encoded data removed]",
      "text/plain": [
       "<Figure size 432x288 with 1 Axes>"
      ]
     },
     "metadata": {},
     "output_type": "display_data"
    }
   ],
   "source": [
    "plt.axis('off')\n",
    "plt.imshow(Xlast21)\n",
    "plt.savefig('ic3_10_1d_posthastings.png')"
   ]
  },
  {
   "cell_type": "markdown",
   "metadata": {},
   "source": [
    "IC"
   ]
  },
  {
   "cell_type": "code",
   "execution_count": 68,
   "metadata": {},
   "outputs": [
    {
     "data": {
      "image/png": "[encoded data removed]",
      "text/plain": [
       "<Figure size 432x288 with 1 Axes>"
      ]
     },
     "metadata": {},
     "output_type": "display_data"
    }
   ],
   "source": [
    "plt.axis('off')\n",
    "plt.imshow(Xinitial2)\n",
    "plt.savefig('ic1_10_1d.png')"
   ]
  },
  {
   "cell_type": "markdown",
   "metadata": {},
   "source": [
    "Second Iteration"
   ]
  },
  {
   "cell_type": "code",
   "execution_count": 71,
   "metadata": {},
   "outputs": [
    {
     "data": {
      "image/png": "[encoded data removed]",
      "text/plain": [
       "<Figure size 432x288 with 1 Axes>"
      ]
     },
     "metadata": {},
     "output_type": "display_data"
    }
   ],
   "source": [
    "plt.axis('off')\n",
    "plt.imshow(Xlast22)\n",
    "plt.savefig('ic1_10_1d_posthastings.png')"
   ]
  },
  {
   "cell_type": "markdown",
   "metadata": {},
   "source": [
    "IC"
   ]
  },
  {
   "cell_type": "code",
   "execution_count": 72,
   "metadata": {},
   "outputs": [
    {
     "data": {
      "image/png": "[encoded data removed]",
      "text/plain": [
       "<Figure size 432x288 with 1 Axes>"
      ]
     },
     "metadata": {},
     "output_type": "display_data"
    }
   ],
   "source": [
    "plt.axis('off')\n",
    "plt.imshow(Xinitial3)\n",
    "plt.savefig('ic2_10_1d.png')"
   ]
  },
  {
   "cell_type": "markdown",
   "metadata": {},
   "source": [
    "Third Iteration"
   ]
  },
  {
   "cell_type": "code",
   "execution_count": 73,
   "metadata": {},
   "outputs": [
    {
     "data": {
      "image/png": "[encoded data removed]",
      "text/plain": [
       "<Figure size 432x288 with 1 Axes>"
      ]
     },
     "metadata": {},
     "output_type": "display_data"
    }
   ],
   "source": [
    "plt.axis('off')\n",
    "plt.imshow(Xlast23)\n",
    "plt.savefig('ic2_10_1d_posthastings.png')"
   ]
  },
  {
   "cell_type": "markdown",
   "metadata": {},
   "source": [
    "Problem 2"
   ]
  },
  {
   "cell_type": "markdown",
   "metadata": {},
   "source": [
    "2a)"
   ]
  },
  {
   "cell_type": "code",
   "execution_count": 31,
   "metadata": {},
   "outputs": [],
   "source": [
    "X2d11 = generateIC((50,50))\n",
    "X2d12 = generateIC((50,50))\n",
    "X2d13 = generateIC((50,50))\n",
    "\n",
    "X2d21 = generateIC((50,50))\n",
    "X2d22 = generateIC((50,50))\n",
    "X2d23 = generateIC((50,50))"
   ]
  },
  {
   "cell_type": "markdown",
   "metadata": {},
   "source": [
    "Initial Condition 1 (T = 0.1)"
   ]
  },
  {
   "cell_type": "code",
   "execution_count": 74,
   "metadata": {},
   "outputs": [
    {
     "data": {
      "image/png": "[encoded data removed]",
      "text/plain": [
       "<Figure size 432x288 with 1 Axes>"
      ]
     },
     "metadata": {},
     "output_type": "display_data"
    }
   ],
   "source": [
    "plt.axis('off')\n",
    "plt.imshow(X2d11)\n",
    "plt.savefig('ic1_0.1_2d.png')"
   ]
  },
  {
   "cell_type": "markdown",
   "metadata": {},
   "source": [
    "Initial Condition 2 (T = 0.1)"
   ]
  },
  {
   "cell_type": "code",
   "execution_count": 77,
   "metadata": {},
   "outputs": [
    {
     "data": {
      "image/png": "[encoded data removed]",
      "text/plain": [
       "<Figure size 432x288 with 1 Axes>"
      ]
     },
     "metadata": {},
     "output_type": "display_data"
    }
   ],
   "source": [
    "plt.axis('off')\n",
    "plt.imshow(X2d12)\n",
    "plt.savefig('ic2_0.1_2d.png')"
   ]
  },
  {
   "cell_type": "markdown",
   "metadata": {},
   "source": [
    "Initial Condition 3 (T = 0.1)"
   ]
  },
  {
   "cell_type": "code",
   "execution_count": 78,
   "metadata": {},
   "outputs": [
    {
     "data": {
      "image/png": "[encoded data removed]",
      "text/plain": [
       "<Figure size 432x288 with 1 Axes>"
      ]
     },
     "metadata": {},
     "output_type": "display_data"
    }
   ],
   "source": [
    "plt.axis('off')\n",
    "plt.imshow(X2d13)\n",
    "plt.savefig('ic3_0.1_2d.png')"
   ]
  },
  {
   "cell_type": "markdown",
   "metadata": {},
   "source": [
    "IC 1 after Metropolis Hastings (T = 0.1)"
   ]
  },
  {
   "cell_type": "code",
   "execution_count": null,
   "metadata": {},
   "outputs": [],
   "source": [
    "t = time.time()\n",
    "X2dfinal11 = metropolisHastingsIterator2D(0.1, X2d11, 1000000)\n",
    "plt.axis('off')\n",
    "plt.imshow(X2dfinal11)\n",
    "t2 = time.time()\n",
    "print(t2-t)\n",
    "#plt.savefig('ic1_0.1_2d_posthastings.png')"
   ]
  },
  {
   "cell_type": "markdown",
   "metadata": {},
   "source": [
    "IC 2 after Metropolis Hastings (T = 0.1)"
   ]
  },
  {
   "cell_type": "code",
   "execution_count": 80,
   "metadata": {},
   "outputs": [
    {
     "data": {
      "image/png": "[encoded data removed]",
      "text/plain": [
       "<Figure size 432x288 with 1 Axes>"
      ]
     },
     "metadata": {},
     "output_type": "display_data"
    }
   ],
   "source": [
    "#X2dfinal12 = metropolisHastingsIterator2D(0.1, X2d12, 1000000)\n",
    "plt.axis('off')\n",
    "plt.imshow(X2dfinal12)\n",
    "plt.savefig('ic2_0.1_2d_posthastings.png')"
   ]
  },
  {
   "cell_type": "markdown",
   "metadata": {},
   "source": [
    "IC 3 after Metropolis Hastings (T = 0.1)"
   ]
  },
  {
   "cell_type": "code",
   "execution_count": 82,
   "metadata": {},
   "outputs": [
    {
     "data": {
      "image/png": "[encoded data removed]",
      "text/plain": [
       "<Figure size 432x288 with 1 Axes>"
      ]
     },
     "metadata": {},
     "output_type": "display_data"
    }
   ],
   "source": [
    "#X2dfinal13 = metropolisHastingsIterator2D(0.1, X2d13, 1000000)\n",
    "plt.axis('off')\n",
    "plt.imshow(X2dfinal13)\n",
    "plt.savefig('ic3_0.1_2d_posthastings.png')"
   ]
  },
  {
   "cell_type": "markdown",
   "metadata": {},
   "source": [
    "Initial Condition 1 (T = 10)"
   ]
  },
  {
   "cell_type": "code",
   "execution_count": 83,
   "metadata": {},
   "outputs": [
    {
     "data": {
      "image/png": "[encoded data removed]",
      "text/plain": [
       "<Figure size 432x288 with 1 Axes>"
      ]
     },
     "metadata": {},
     "output_type": "display_data"
    }
   ],
   "source": [
    "plt.axis('off')\n",
    "plt.imshow(X2d21)\n",
    "plt.savefig('ic1_10_2d.png')"
   ]
  },
  {
   "cell_type": "markdown",
   "metadata": {},
   "source": [
    "IC after Metropolis Hastings (T = 10)"
   ]
  },
  {
   "cell_type": "code",
   "execution_count": 84,
   "metadata": {},
   "outputs": [
    {
     "data": {
      "image/png": "[encoded data removed]",
      "text/plain": [
       "<Figure size 432x288 with 1 Axes>"
      ]
     },
     "metadata": {},
     "output_type": "display_data"
    }
   ],
   "source": [
    "#X2dfinal21 = metropolisHastingsIterator2D(10, X2d21, 1000000)\n",
    "plt.axis('off')\n",
    "plt.imshow(X2dfinal21)\n",
    "plt.savefig('ic1_10_2d_posthastings.png')"
   ]
  },
  {
   "cell_type": "markdown",
   "metadata": {},
   "source": [
    "Initial Condition 2 (T = 10)"
   ]
  },
  {
   "cell_type": "code",
   "execution_count": 85,
   "metadata": {},
   "outputs": [
    {
     "data": {
      "image/png": "[encoded data removed]",
      "text/plain": [
       "<Figure size 432x288 with 1 Axes>"
      ]
     },
     "metadata": {},
     "output_type": "display_data"
    }
   ],
   "source": [
    "plt.axis('off')\n",
    "plt.imshow(X2d22)\n",
    "plt.savefig('ic2_10_2d.png')"
   ]
  },
  {
   "cell_type": "markdown",
   "metadata": {},
   "source": [
    "IC 2 after Metropolis Hastings (T = 10)"
   ]
  },
  {
   "cell_type": "code",
   "execution_count": 86,
   "metadata": {},
   "outputs": [
    {
     "data": {
      "image/png": "[encoded data removed]",
      "text/plain": [
       "<Figure size 432x288 with 1 Axes>"
      ]
     },
     "metadata": {},
     "output_type": "display_data"
    }
   ],
   "source": [
    "#X2dfinal22 = metropolisHastingsIterator2D(10, X2d22, 1000000)\n",
    "plt.axis('off')\n",
    "plt.imshow(X2dfinal22)\n",
    "plt.savefig('ic2_10_2d_posthastings.png')"
   ]
  },
  {
   "cell_type": "markdown",
   "metadata": {},
   "source": [
    "Initial Condition 3 (T = 10)"
   ]
  },
  {
   "cell_type": "code",
   "execution_count": 87,
   "metadata": {},
   "outputs": [
    {
     "data": {
      "image/png": "[encoded data removed]",
      "text/plain": [
       "<Figure size 432x288 with 1 Axes>"
      ]
     },
     "metadata": {},
     "output_type": "display_data"
    }
   ],
   "source": [
    "plt.axis('off')\n",
    "plt.imshow(X2d23)\n",
    "plt.savefig('ic3_10_2d.png')"
   ]
  },
  {
   "cell_type": "markdown",
   "metadata": {},
   "source": [
    "IC 3 after Metropolis Hastings (T = 10)"
   ]
  },
  {
   "cell_type": "code",
   "execution_count": 88,
   "metadata": {},
   "outputs": [
    {
     "data": {
      "image/png": "[encoded data removed]",
      "text/plain": [
       "<Figure size 432x288 with 1 Axes>"
      ]
     },
     "metadata": {},
     "output_type": "display_data"
    }
   ],
   "source": [
    "#X2dfinal23 = metropolisHastingsIterator2D(10, X2d23, 1000000)\n",
    "plt.axis('off')\n",
    "plt.imshow(X2dfinal23)\n",
    "plt.savefig('ic3_10_2d_posthastings.png')"
   ]
  },
  {
   "cell_type": "code",
   "execution_count": null,
   "metadata": {},
   "outputs": [],
   "source": []
  }
 ],
 "metadata": {
  "kernelspec": {
   "display_name": "Python 3",
   "language": "python",
   "name": "python3"
  },
  "language_info": {
   "codemirror_mode": {
    "name": "ipython",
    "version": 3
   },
   "file_extension": ".py",
   "mimetype": "text/x-python",
   "name": "python",
   "nbconvert_exporter": "python",
   "pygments_lexer": "ipython3",
   "version": "3.6.4"
  }
 },
 "nbformat": 4,
 "nbformat_minor": 2
}
